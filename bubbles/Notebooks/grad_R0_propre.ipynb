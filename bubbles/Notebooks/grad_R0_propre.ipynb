{
 "cells": [
  {
   "cell_type": "code",
   "execution_count": 1,
   "id": "a98d2247",
   "metadata": {},
   "outputs": [],
   "source": [
    "import numpy as np\n",
    "import glob\n",
    "import os\n",
    "import pickle\n",
    "%matplotlib inline\n",
    "import matplotlib.pyplot as plt\n",
    "from scipy.interpolate import interp1d\n",
    "#import stagnation.variables as va\n",
    "from scipy.optimize import curve_fit\n",
    "from scipy.spatial import cKDTree\n",
    "from scipy.optimize import fsolve\n",
    "import scipy\n",
    "import time"
   ]
  },
  {
   "cell_type": "code",
   "execution_count": 2,
   "id": "7d3f4aa4",
   "metadata": {},
   "outputs": [
    {
     "name": "stdout",
     "output_type": "stream",
     "text": [
      "0.234375\n"
     ]
    }
   ],
   "source": [
    "L = 120 #box size\n",
    "dx = 120/2**9 #minimum grid size\n",
    "print(dx)\n",
    "folderfig='/home/turbots/Documents/final_fig/R0/grad/'\n",
    "eps = 7.8 #mean dissipation without the bubble\n",
    "rho  = 1 #fluid density (taken as reference)\n",
    "sig=dx/2"
   ]
  },
  {
   "cell_type": "code",
   "execution_count": 3,
   "id": "5c010f27",
   "metadata": {},
   "outputs": [],
   "source": [
    "def gaussian(x, sig): #fonction de Gauss utlisé pour la normalisation et le calcul des poids de chaque points\n",
    "    return 1/(sig*np.sqrt(2*np.pi))*np.exp(-1/2*(x/sig)**2)"
   ]
  },
  {
   "cell_type": "code",
   "execution_count": 4,
   "id": "ec2cf37a",
   "metadata": {},
   "outputs": [],
   "source": [
    "def expo_decr(x,a,b,cte):\n",
    "    return np.exp(a*x+b)+cte"
   ]
  },
  {
   "cell_type": "code",
   "execution_count": 5,
   "id": "111057ea",
   "metadata": {},
   "outputs": [
    {
     "data": {
      "text/plain": [
       "286"
      ]
     },
     "execution_count": 5,
     "metadata": {},
     "output_type": "execute_result"
    }
   ],
   "source": [
    "folds = glob.glob('Re*') # we pick up all the files that start with Re and put them in folds\n",
    "len(folds)# lenght of folds"
   ]
  },
  {
   "cell_type": "code",
   "execution_count": null,
   "id": "ca28282c",
   "metadata": {},
   "outputs": [],
   "source": [
    "folds0 = 'Re55t140-l9-16-2540-2-dump_63405'\n",
    "filesdissint = glob.glob(folds0+ '/localstats_[!f]*')\n",
    "filesdissext = glob.glob(folds0 + '/localstats_fluid*')\n",
    "filesinterf = glob.glob(folds0 + '/inter*.dat')\n",
    "        \n",
    "    \n",
    "\n",
    "import warnings\n",
    "\n",
    "with warnings.catch_warnings():#to remove warnings associated to the fact that some files are empty.\n",
    "    warnings.simplefilter(\"ignore\") \n",
    "#     dataint = np.zeros([0, 7], dtype=float)\n",
    "#     dataext = np.zeros([0, 6], dtype=float)\n",
    "    interf = np.zeros([0, 10], dtype=float)\n",
    "    bubble = np.zeros([0, 12], dtype=float)\n",
    "    stat = np.zeros([0, 8], dtype=float)\n",
    "    vit_in = np.zeros([0,17], dtype=float)\n",
    "    vit_interf = np.zeros([0,17], dtype=float)\n",
    "    vit_out = np.zeros([0,16], dtype=float)\n",
    "\n",
    "    for file in filesinterf:\n",
    "        datatemp = np.loadtxt(file, skiprows=1)\n",
    "        if datatemp.shape !=(0,):\n",
    "            interf = np.vstack((interf, datatemp))\n",
    "\n",
    "try:\n",
    "    datatemp = np.loadtxt(folds0 +'/bubbles.dat', skiprows=1)\n",
    "except:\n",
    "    datatemp = np.loadtxt(folds0 +'/bubbles.dat', skiprows=0)\n",
    "if datatemp.shape !=(0,):\n",
    "    bubble = np.vstack((bubble,datatemp))\n",
    "\n",
    "    \n",
    "datatemp=np.loadtxt(folds0 + '/vitessein_0.dat',skiprows=1)\n",
    "if datatemp.shape !=(0,):\n",
    "        vit_in = np.vstack((vit_in,datatemp))\n",
    "\n",
    "datatemp=np.loadtxt(folds0 + '/vitesseinterf_0.dat',skiprows=1)\n",
    "if datatemp.shape !=(0,):\n",
    "        vit_interf = np.vstack((vit_interf,datatemp))\n",
    "\n",
    "datatemp=np.loadtxt(folds0 + '/vitesseout_0.dat',skiprows=1)\n",
    "if datatemp.shape !=(0,):\n",
    "        vit_out = np.vstack((vit_out,datatemp))\n",
    "\n",
    "    \n",
    "    "
   ]
  },
  {
   "cell_type": "code",
   "execution_count": null,
   "id": "f566dad2",
   "metadata": {},
   "outputs": [],
   "source": [
    "R0= float(folds0.split('-')[2])"
   ]
  },
  {
   "cell_type": "code",
   "execution_count": 6,
   "id": "0918ce4b",
   "metadata": {},
   "outputs": [],
   "source": [
    "params = np.zeros(9)\n",
    "\n",
    "def surf(x, y, z):#equation of the surface\n",
    "    global params\n",
    "#     a2, a1, b2, b1, c2, c1, ab, ac, bc, d = params\n",
    "    a1,b1 ,c1, ab , bc, ac , a2 , b2 , c2 = params\n",
    "    return a2*x**2 + a1*x + b2*y**2 + b1*y + c2*z**2 + c1*z + ab*x*y + ac*x*z + bc*y*z\n",
    "\n",
    "def gradient(x, y, z):#gradient of the surface \n",
    "    global params\n",
    "#     a2, a1, b2, b1, c2, c1, ab, ac, bc, d = params\n",
    "    a1, b1 ,c1, ab , bc, ac , a2 , b2 , c2 = params\n",
    "    gx = 2*a2*x + a1 + ab*y+ ac*z\n",
    "    gy = 2*b2*y + b1 + ab*x + bc*z\n",
    "    gz = 2*c2*z + c1 + ac*x + bc*y\n",
    "    return np.asarray([gx, gy, gz])\n",
    "\n",
    "def system(XYZLamb, M):\n",
    "    '''\n",
    "    to solve:\n",
    "    x - xM - lambda gx = 0\n",
    "    y - yM - lambda gy = 0\n",
    "    z - zM - lambda gz = 0\n",
    "    surf(x, y, z) = 0\n",
    "    \n",
    "    ie: OM and gradient are colinear and O is on the surface.\n",
    "    '''\n",
    "    g = gradient(*XYZLamb[:3])\n",
    "    p1 = M - XYZLamb[:3] - XYZLamb[3]*g\n",
    "    p1 = np.append(p1, surf(*XYZLamb[:3]) )\n",
    "    return p1"
   ]
  },
  {
   "cell_type": "code",
   "execution_count": 7,
   "id": "9f8e78c5",
   "metadata": {},
   "outputs": [
    {
     "ename": "NameError",
     "evalue": "name 'vit_in' is not defined",
     "output_type": "error",
     "traceback": [
      "\u001b[0;31m---------------------------------------------------------------------------\u001b[0m",
      "\u001b[0;31mNameError\u001b[0m                                 Traceback (most recent call last)",
      "Cell \u001b[0;32mIn[7], line 1\u001b[0m\n\u001b[0;32m----> 1\u001b[0m mask_vit_in\u001b[38;5;241m=\u001b[39m(\u001b[43mvit_in\u001b[49m[:,\u001b[38;5;241m0\u001b[39m]\u001b[38;5;241m<\u001b[39m\u001b[38;5;241m600\u001b[39m)\n\u001b[1;32m      2\u001b[0m maskinterf\u001b[38;5;241m=\u001b[39m(interf[:,\u001b[38;5;241m0\u001b[39m]\u001b[38;5;241m<\u001b[39m\u001b[38;5;241m600\u001b[39m)\n\u001b[1;32m      4\u001b[0m \u001b[38;5;28mprint\u001b[39m(\u001b[38;5;241m30\u001b[39m\u001b[38;5;241m*\u001b[39mdx)\n",
      "\u001b[0;31mNameError\u001b[0m: name 'vit_in' is not defined"
     ]
    }
   ],
   "source": [
    "mask_vit_in=(vit_in[:,0]<600)\n",
    "maskinterf=(interf[:,0]<600)\n",
    "\n",
    "print(30*dx)\n",
    "for bulle in bubble:\n",
    "    if bulle[3]<30*dx: #la bulle est plus petite que 30 cellules ie pas une \"bulle\"\n",
    "        j=bulle[2]\n",
    "        mask_vit_in=np.logical_and(mask_vit_in,vit_in[:,0][:]!=j)\n",
    "        maskinterf=np.logical_and(maskinterf,interf[:,0][:]!=j)"
   ]
  },
  {
   "cell_type": "code",
   "execution_count": null,
   "id": "951aed52",
   "metadata": {},
   "outputs": [],
   "source": [
    "pc = np.median(vit_in[:, 1:4][mask_vit_in], axis=0)# approximate position center\n",
    "print(pc)\n",
    "interf[:, 1:4] = np.mod(interf[:, 1:4] - pc + L/2, L) - L/2 #shift interface position\n",
    "vit_in[:, 1:4] = np.mod(vit_in[:, 1:4] - pc + L/2, L) - L/2 #shift data position\n",
    "vit_interf[:, 1:4] = np.mod(vit_interf[:, 1:4] - pc + L/2, L) - L/2 #shift data position\n",
    "vit_out[:, 0:3] = np.mod(vit_out[:, 0:3] - pc + L/2, L) - L/2 #shift data position\n",
    "pc = np.mean(vit_in[:, 1:4][mask_vit_in], axis=0)# approximate position center\n",
    "print(pc)"
   ]
  },
  {
   "cell_type": "code",
   "execution_count": null,
   "id": "a8462452",
   "metadata": {},
   "outputs": [],
   "source": [
    "# on masque les points extérieures de la bulle qui sont trop éloigné du centre de la bulle pour réduire le temps \n",
    "# de calcul et car on ne s'intéresse qu'a ce qu'il se passe proche de la bulle\n",
    "\n",
    "mask_vit_out=((vit_out[:,0]-pc[0])**2+(vit_out[:,1]-pc[1])**2+(vit_out[:,2]-pc[2])**2<((3.5*R0)**2)) "
   ]
  },
  {
   "cell_type": "code",
   "execution_count": null,
   "id": "b88b44af",
   "metadata": {},
   "outputs": [],
   "source": [
    "z = np.mean(vit_in[:, 3][mask_vit_in])\n",
    "dz=0.5\n",
    "y=np.mean(vit_in[:, 2][mask_vit_in])\n",
    "dy=0.5\n",
    "\n",
    "indicez4= np.logical_and(vit_in[:, 3]>z-dz, vit_in[:, 3]<z+dz )\n",
    "indicey4= np.logical_and(vit_in[:, 2]>y-dy, vit_in[:, 2]<y+dy )\n",
    "mask_vit_in_1d=np.logical_and(indicey4,indicez4)\n",
    "mask_vit_in_2d=np.logical_and(indicez4,mask_vit_in) #masque 2d pour le champ de données intérieures\n",
    "# mask_vit_in_1d=np.logical_and(mask_vit_in_1d,mask_vit_in) #masque 1d pour le champ de données intérieures\n",
    "\n",
    "indicez5= np.logical_and(vit_out[:, 2]>z-dz, vit_out[:, 2]<z+dz )\n",
    "indicey5= np.logical_and(vit_out[:, 1]>y-dy, vit_out[:, 1]<y+dy )\n",
    "mask_vit_out_2d=np.logical_and(mask_vit_out,indicez5)#masque 2d pour le champ de données extérieures\n",
    "mask_vit_out_1d=np.logical_and(indicey5,indicez5)#masque 1d pour le champ de données extérieures\n",
    "mask_vit_out_1d=np.logical_and(mask_vit_out,mask_vit_out_1d)"
   ]
  },
  {
   "cell_type": "code",
   "execution_count": null,
   "id": "fa6abcf1",
   "metadata": {},
   "outputs": [],
   "source": [
    "fig = plt.figure(dpi=150)\n",
    "ax = plt.axes(projection='3d')\n",
    "ax.scatter(interf[:,1][maskinterf],interf[:,2][maskinterf],interf[:,3][maskinterf],color='k',s=1)\n",
    "# plt.title('interface of the bubble')\n",
    "# plt.savefig(folderfig + 'interface_solo_bubble.pdf',bbox_inches='tight')"
   ]
  },
  {
   "cell_type": "code",
   "execution_count": null,
   "id": "2aacd557",
   "metadata": {},
   "outputs": [],
   "source": [
    "voronoi_kdtree = cKDTree(interf[:, 1:4]) #fonction qui trace un diagramme de Voronoi. \n",
    "#Ce diagrame permet de crée des régions où sont regorupés tout les points les points proches \n",
    "#d'un point de l'interface. Ça permet de calculer la distance des points à l'interface"
   ]
  },
  {
   "cell_type": "code",
   "execution_count": null,
   "id": "144a74e7",
   "metadata": {},
   "outputs": [],
   "source": [
    "test_point_dist_vit_out, regions_ext = voronoi_kdtree.query(vit_out[:, 0:3][mask_vit_out])\n",
    "test_point_dist_vit_in, regions_int = voronoi_kdtree.query(vit_in[mask_vit_in][:, 1:4])"
   ]
  },
  {
   "cell_type": "code",
   "execution_count": null,
   "id": "666a67d7",
   "metadata": {},
   "outputs": [],
   "source": [
    "fig = plt.figure()\n",
    "ax = plt.axes(projection='3d')\n",
    "#np.mod(X - pc + L/2, L) - L/2\n",
    "p=ax.scatter(vit_out[:, 0][mask_vit_out], vit_out[:, 1][mask_vit_out], vit_out[:, 2][mask_vit_out],c=regions_ext, s=1)\n",
    "plt.title('Voronoi spaces outside the bubble')\n",
    "# ax.scatter(interf[:,1][maskinterf],interf[:,2][maskinterf],interf[:,3][maskinterf],color='r')\n",
    "ax.set_xlabel('X ')\n",
    "ax.set_ylabel('Y ')\n",
    "ax.set_zlabel('Z ')"
   ]
  },
  {
   "cell_type": "code",
   "execution_count": 18,
   "id": "00e99a04",
   "metadata": {},
   "outputs": [],
   "source": [
    "def interpolate_surf(interface_points,voronoi_kdtree):\n",
    "#     calcule des coefficients d'interpolation de la surf pour tous les points de l'interface\n",
    "    surface = {}\n",
    "    for i , element in enumerate(interface_points):\n",
    "        (distances,voisins) = voronoi_kdtree.query(element,k=20)\n",
    "        vois = interface_points[voisins,:]\n",
    "        A = np.c_[vois[:,:], vois[:,0]*vois[:,1],vois[:,2]*vois[:,1],vois[:,0]*vois[:,2], vois[:,:]**2]\n",
    "        params,_,_,_ = scipy.linalg.lstsq(A, np.ones(vois.shape))\n",
    "        params = params[:,0]\n",
    "        surface[i] = params\n",
    "    return surface"
   ]
  },
  {
   "cell_type": "code",
   "execution_count": 14,
   "id": "1892a8b7",
   "metadata": {},
   "outputs": [],
   "source": [
    "def compute_dist_norm(points, interface_points, regions, surface):\n",
    "# calcule de la distance à l'interface pour tous les points mis en arguments dans 'points'\n",
    "    distance =  np.zeros(len(points))\n",
    "    normale = np.zeros([len(points),3])\n",
    "    for i , element in enumerate(points):\n",
    "        indice_interface = regions[i]\n",
    "        interf = interface_points[indice_interface]\n",
    "        params = surface[indice_interface]\n",
    "        out = fsolve(system, np.append(interf+1,1), args=(element), full_output=True)\n",
    "        sol = out[0]\n",
    "        normal = sol[:3]/np.linalg.norm(sol[:3])\n",
    "        n_voronoi = element - interf\n",
    "        distance[i] = np.sum(normal*n_voronoi)\n",
    "        normale[i] = normal\n",
    "    return distance, normale"
   ]
  },
  {
   "cell_type": "code",
   "execution_count": 15,
   "id": "6b72eb88",
   "metadata": {},
   "outputs": [],
   "source": [
    "def calculate_orthogonal_vectors(v): #calculer les deux vecteurs orthonormaux à un vecteur v\n",
    "    \n",
    "    \n",
    "    # Générer un vecteur aléatoire de même dimension que v\n",
    "    random_vector = np.random.randn(len(v))\n",
    "    \n",
    "    # Calculer le produit vectoriel entre v et le vecteur aléatoire\n",
    "    cross_product = np.cross(v, random_vector)\n",
    "    \n",
    "    # Calculer le produit vectoriel entre v et le produit vectoriel précédent\n",
    "    orthogonal_vector = np.cross(v, cross_product)\n",
    "    \n",
    "    # Normaliser les vecteurs\n",
    "    cross_product_normalized = cross_product / np.linalg.norm(cross_product)\n",
    "    orthogonal_vector_normalized = orthogonal_vector / np.linalg.norm(orthogonal_vector)\n",
    "    \n",
    "    return cross_product_normalized, orthogonal_vector_normalized"
   ]
  },
  {
   "cell_type": "code",
   "execution_count": null,
   "id": "63676995",
   "metadata": {},
   "outputs": [],
   "source": [
    "tps1 = time.time()\n",
    "surface = interpolate_surf(interf[:,1:4][maskinterf],voronoi_kdtree)\n",
    "distance_ext, normale_ext = compute_dist_norm(vit_out[mask_vit_out][:,:3],interf[:,1:4][maskinterf],regions_ext,surface)\n",
    "distance_int, normale_int = compute_dist_norm(vit_in[mask_vit_in][:,1:4],interf[:,1:4][maskinterf],regions_int,surface)\n",
    "\n",
    "tps2 = time.time()\n",
    "print(tps2-tps1)"
   ]
  },
  {
   "cell_type": "code",
   "execution_count": null,
   "id": "a7314a65",
   "metadata": {},
   "outputs": [],
   "source": [
    "t1 = time.time()\n",
    "\n",
    "tangente1_ext, tangente2_ext = np.zeros(normale_ext.shape), np.zeros(normale_ext.shape)\n",
    "\n",
    "for (i,element) in enumerate(normale_ext):\n",
    "    tangente1_ext[i], tangente2_ext[i] = calculate_orthogonal_vectors(element)\n",
    "    \n",
    "tangente1_int, tangente2_int = np.zeros(normale_int.shape), np.zeros(normale_int.shape)\n",
    "\n",
    "for (i,element) in enumerate(normale_int):\n",
    "    tangente1_int[i], tangente2_int[i] = calculate_orthogonal_vectors(element)\n",
    "\n",
    "t2 = time.time()\n",
    "print(t2-t1)"
   ]
  },
  {
   "cell_type": "code",
   "execution_count": null,
   "id": "6f36dc9e",
   "metadata": {},
   "outputs": [],
   "source": [
    "def proj_vit(vitesse,normale):\n",
    "    normv = np.abs(np.sum(vitesse[:]*normale[:],axis=1))\n",
    "    \n",
    "    v_n = np.zeros([len(normv),3])\n",
    "    v_n[:,0] = normv*normale[:,0]\n",
    "    v_n[:,1] = normv*normale[:,1]\n",
    "    v_n[:,2] = normv*normale[:,2]\n",
    "    \n",
    "    tangv = np.linalg.norm(vitesse[:] - v_n[:],axis=1)\n",
    "    \n",
    "    return normv, tangv"
   ]
  },
  {
   "cell_type": "code",
   "execution_count": null,
   "id": "7b9cee64",
   "metadata": {},
   "outputs": [],
   "source": [
    "t1 = time.time()\n",
    "normv_out,tangv_out = proj_vit(vit_out[:,3:6][mask_vit_out],normale_ext)\n",
    "normv_in,tangv_in = proj_vit(vit_in[:,4:7][mask_vit_in],normale_int)\n",
    "t2 = time.time()\n",
    "print(t2-t1)"
   ]
  },
  {
   "cell_type": "code",
   "execution_count": 25,
   "id": "b8a5e150",
   "metadata": {},
   "outputs": [],
   "source": [
    "def proj_grad_out(vitesse,normale,tangente1,tangente2):\n",
    "    \n",
    "    gradv_n=np.zeros([len(vitesse),3])\n",
    "    gradv_n[:,0]=np.sum(vitesse[:,6:9]*normale[:,0:],axis=1)\n",
    "    gradv_n[:,1]=np.sum(vitesse[:,9:12]*normale[:,0:],axis=1)\n",
    "    gradv_n[:,2]=np.sum(vitesse[:,12:15]*normale[:,0:],axis=1)\n",
    "    normgdn=np.sum(gradv_n[:,0:3]**2,axis=1)\n",
    "\n",
    "\n",
    "    gradv_t1=np.zeros([len(vitesse),3])\n",
    "    gradv_t1[:,0]=np.sum(vitesse[:,6:9]*tangente1[:,0:],axis=1)\n",
    "    gradv_t1[:,1]=np.sum(vitesse[:,9:12]*tangente1[:,0:],axis=1)\n",
    "    gradv_t1[:,2]=np.sum(vitesse[:,12:15]*tangente1[:,0:],axis=1)\n",
    "    normgdt1=np.sum(gradv_t1[:,0:3]**2,axis=1)\n",
    "\n",
    "\n",
    "    gradv_t2=np.zeros([len(vitesse),3])\n",
    "    gradv_t2[:,0]=np.sum(vitesse[:,6:9]*tangente2[:,0:],axis=1)\n",
    "    gradv_t2[:,1]=np.sum(vitesse[:,9:12]*tangente2[:,0:],axis=1)\n",
    "    gradv_t2[:,2]=np.sum(vitesse[:,12:15]*tangente2[:,0:],axis=1)\n",
    "    normgdt2=np.sum(gradv_t2[:,0:3]**2,axis=1)\n",
    "\n",
    "    \n",
    "    return normgdn , normgdt1 , normgdt2"
   ]
  },
  {
   "cell_type": "code",
   "execution_count": 26,
   "id": "73551e1e",
   "metadata": {},
   "outputs": [],
   "source": [
    "def proj_grad_in(vitesse,normale,tangente1,tangente2):\n",
    "    \n",
    "    gradv_n=np.zeros([len(vitesse),3])\n",
    "    gradv_n[:,0]=np.sum(vitesse[:,7:10]*normale[:,0:],axis=1)\n",
    "    gradv_n[:,1]=np.sum(vitesse[:,10:13]*normale[:,0:],axis=1)\n",
    "    gradv_n[:,2]=np.sum(vitesse[:,13:16]*normale[:,0:],axis=1)\n",
    "    normgdn=np.sum(gradv_n[:,0:3]**2,axis=1)\n",
    "\n",
    "\n",
    "    gradv_t1=np.zeros([len(vitesse),3])\n",
    "    gradv_t1[:,0]=np.sum(vitesse[:,7:10]*tangente1[:,0:],axis=1)\n",
    "    gradv_t1[:,1]=np.sum(vitesse[:,10:13]*tangente1[:,0:],axis=1)\n",
    "    gradv_t1[:,2]=np.sum(vitesse[:,13:16]*tangente1[:,0:],axis=1)\n",
    "    normgdt1=np.sum(gradv_t1[:,0:3]**2,axis=1)\n",
    "\n",
    "\n",
    "    gradv_t2=np.zeros([len(vitesse),3])\n",
    "    gradv_t2[:,0]=np.sum(vitesse[:,7:10]*tangente2[:,0:],axis=1)\n",
    "    gradv_t2[:,1]=np.sum(vitesse[:,10:13]*tangente2[:,0:],axis=1)\n",
    "    gradv_t2[:,2]=np.sum(vitesse[:,13:16]*tangente2[:,0:],axis=1)\n",
    "    normgdt2=np.sum(gradv_t2[:,0:3]**2,axis=1)\n",
    "\n",
    "    \n",
    "    return normgdn , normgdt1 , normgdt2"
   ]
  },
  {
   "cell_type": "code",
   "execution_count": null,
   "id": "a69838d3",
   "metadata": {},
   "outputs": [],
   "source": [
    "t1 = time.time()\n",
    "\n",
    "gdn_out, gdt1_out, gdt2_out = proj_grad_out(vit_out[mask_vit_out],normale_ext,tangente1_ext,tangente2_ext)\n",
    "gdn_in, gdt1_in , gdt2_in = proj_grad_in(vit_in[mask_vit_in],normale_int,tangente1_int,tangente2_int)\n",
    "\n",
    "t2 = time.time()\n",
    "print(t2-t1)"
   ]
  },
  {
   "cell_type": "code",
   "execution_count": null,
   "id": "8449ad25",
   "metadata": {},
   "outputs": [],
   "source": [
    "print( gdn_out)"
   ]
  },
  {
   "cell_type": "code",
   "execution_count": null,
   "id": "2984d07a",
   "metadata": {},
   "outputs": [],
   "source": [
    "dist_int = np.linspace(0,R0,100)\n",
    "dist_ext = np.linspace(0,2.5*R0,350)"
   ]
  },
  {
   "cell_type": "code",
   "execution_count": null,
   "id": "d0f6016e",
   "metadata": {},
   "outputs": [],
   "source": [
    "#test de la normalisation avec une fonction exponentielle\n",
    "\n",
    "\n",
    "weights = gaussian(distance_ext -dist_ext[:, np.newaxis], sig)\n",
    "\n",
    "expo=np.exp(distance_ext)\n",
    "\n",
    "mean = np.sum(expo*weights*vit_out[:, -1][mask_vit_out], axis=1)/np.sum(vit_out[:, -1][mask_vit_out]*weights, axis=1)\n"
   ]
  },
  {
   "cell_type": "code",
   "execution_count": null,
   "id": "f4bbcb90",
   "metadata": {},
   "outputs": [],
   "source": [
    "plt.figure(dpi=150)\n",
    "plt.plot(dist_ext,mean)\n",
    "plt.xlabel('$d$')\n",
    "plt.ylabel('$exp(d)$')\n",
    "plt.plot(dist_ext,np.exp(dist_ext),color='r',linestyle='--')\n",
    "plt.title('test normalisation avec une fonction exponentielle')\n",
    "# plt.savefig(folderfig+'test_normalisation.pdf')\n",
    "print(mean[0])"
   ]
  },
  {
   "cell_type": "code",
   "execution_count": null,
   "id": "36e1be2c",
   "metadata": {},
   "outputs": [],
   "source": [
    "weights = gaussian(distance_ext -dist_ext[:, np.newaxis], sig)\n",
    "vn_out = np.sum(normv_out*weights*vit_out[:, -1][mask_vit_out], axis=1)/np.sum(vit_out[:, -1][mask_vit_out]*weights,axis=1)\n",
    "vt_out = np.sum(tangv_out*weights*vit_out[mask_vit_out][:, -1], axis=1)/np.sum(vit_out[mask_vit_out][:, -1]*weights,axis=1)\n",
    "\n",
    "weights = gaussian(distance_int -dist_int[:, np.newaxis], sig)\n",
    "vn_in = np.sum(normv_in*weights*vit_in[:, -1][mask_vit_in], axis=1)/np.sum(vit_in[:, -1][mask_vit_in]*weights,axis=1)\n",
    "vt_in = np.sum(tangv_in*weights*vit_in[:, -1][mask_vit_in], axis=1)/np.sum(vit_in[:, -1][mask_vit_in]*weights,axis=1)\n"
   ]
  },
  {
   "cell_type": "code",
   "execution_count": null,
   "id": "df1e3f77",
   "metadata": {},
   "outputs": [],
   "source": [
    "plt.figure(dpi = 150)\n",
    "plt.plot(dist_int*(-1)/R0, vn_in, color='g')\n",
    "plt.plot(dist_int*(-1) /R0, vt_in/2, color='b')\n",
    "\n",
    "plt.plot(dist_ext/R0, vn_out, color='g')\n",
    "plt.plot(dist_ext/R0 , vt_out/2, color='b')\n",
    "\n"
   ]
  },
  {
   "cell_type": "code",
   "execution_count": null,
   "id": "756a771d",
   "metadata": {},
   "outputs": [],
   "source": [
    "weights = gaussian(distance_ext -dist_ext[:, np.newaxis], sig)\n",
    "gdvn_out = np.sum(gdn_out*weights*vit_out[:, -1][mask_vit_out], axis=1)/np.sum(vit_out[:, -1][mask_vit_out]*weights,axis=1)\n",
    "gdvt1_out = np.sum(gdt1_out*weights*vit_out[mask_vit_out][:, -1], axis=1)/np.sum(vit_out[mask_vit_out][:, -1]*weights,axis=1)\n",
    "gdvt2_out = np.sum(gdt2_out*weights*vit_out[mask_vit_out][:, -1], axis=1)/np.sum(vit_out[mask_vit_out][:, -1]*weights,axis=1)\n",
    "\n",
    "weights = gaussian(distance_int -dist_int[:, np.newaxis], sig)\n",
    "gdvn_in = np.sum(gdn_in*weights*vit_in[:, -1][mask_vit_in], axis=1)/np.sum(vit_in[:, -1][mask_vit_in]*weights,axis=1)\n",
    "gdvt1_in = np.sum(gdt1_in*weights*vit_in[:, -1][mask_vit_in], axis=1)/np.sum(vit_in[:, -1][mask_vit_in]*weights,axis=1)\n",
    "gdvt2_in = np.sum(gdt2_in*weights*vit_in[:, -1][mask_vit_in], axis=1)/np.sum(vit_in[:, -1][mask_vit_in]*weights,axis=1)\n"
   ]
  },
  {
   "cell_type": "code",
   "execution_count": null,
   "id": "a1463d6a",
   "metadata": {},
   "outputs": [],
   "source": [
    "plt.figure(dpi = 150)\n",
    "plt.plot(dist_int*(-1)/R0, gdvn_in**2, color='g')\n",
    "plt.plot(dist_int*(-1) /R0, (gdvt1_in**2+gdvt2_in**2)/2, color='b')\n",
    "\n",
    "plt.plot(dist_ext/R0, gdvn_out**2, color='g')\n",
    "plt.plot(dist_ext/R0 , (gdvt1_out**2+gdvt2_out**2)/2, color='b')"
   ]
  },
  {
   "cell_type": "code",
   "execution_count": 8,
   "id": "d5c67c99",
   "metadata": {},
   "outputs": [],
   "source": [
    "def loadfiles(filename):\n",
    "    '''\n",
    "    Load vitessein, vitesseout, vitesseinterf and interface files knowing the folder direction. \n",
    "    Return velocity fields arrays\n",
    "    '''\n",
    "    import warnings\n",
    "\n",
    "    with warnings.catch_warnings():#to remove warnings associated to the fact that some files are empty.\n",
    "        warnings.simplefilter(\"ignore\")    \n",
    "\n",
    "        filesinterf = glob.glob(filename + '/inter*.dat')\n",
    "        \n",
    "        interf = np.zeros([0, 10], dtype=float)\n",
    "        bubble = np.zeros([0,12], dtype=float)\n",
    "        vit_in = np.zeros([0,15], dtype=float)\n",
    "        vit_interf = np.zeros([0,15], dtype=float)\n",
    "        vit_out = np.zeros([0,15], dtype=float)\n",
    "        \n",
    "        for file in filesinterf:\n",
    "            datatemp = np.loadtxt(file, skiprows=1)\n",
    "            if datatemp.shape !=(0,):\n",
    "                interf = np.vstack((interf, datatemp))\n",
    "        \n",
    "        datatemp=np.loadtxt(filename + '/bubbles.dat',skiprows=1)\n",
    "        if datatemp.shape !=(0,):\n",
    "                bubble = np.vstack((bubble,datatemp))\n",
    "\n",
    "        vit_in=np.loadtxt(filename + '/vitessein_0.dat',skiprows=1)\n",
    "\n",
    "        vit_interf=np.loadtxt(filename + '/vitesseinterf_0.dat',skiprows=1)\n",
    "\n",
    "        vit_out=np.loadtxt(filename + '/vitesseout_0.dat',skiprows=1)\n",
    "\n",
    "\n",
    "        return interf, bubble, vit_in, vit_interf, vit_out"
   ]
  },
  {
   "cell_type": "code",
   "execution_count": null,
   "id": "6e27d96c",
   "metadata": {},
   "outputs": [
    {
     "name": "stdout",
     "output_type": "stream",
     "text": [
      "Re55t140-l9-16-2540-2-dump_63405\n"
     ]
    }
   ],
   "source": [
    "\n",
    "vitesseext = {}\n",
    "vitesseint = {}\n",
    "# vitesseinterf = {}\n",
    "occ_ro_dump = {}\n",
    "\n",
    "for fold in folds:\n",
    "    R0 = float(fold.split('-')[2])\n",
    "    dist_int = np.linspace(0,R0,100)\n",
    "    dist_ext = np.linspace(0,2*R0,250)\n",
    "    interf, bubble, vit_in, vit_interf, vit_out = loadfiles(fold);\n",
    "    #test whether the bubble broke or not. If so there are several bubbles and so \n",
    "    # bubble number can be larger than 0. \n",
    "    if int(fold.split('-')[2])==8:\n",
    "        if int(fold.split('-')[3])!=800:\n",
    "            continue\n",
    "    print(fold)\n",
    "    if 1 in vit_in[:, 0]:\n",
    "        print('break')\n",
    "        print(np.max(data[:, 0]))\n",
    "        continue\n",
    "    \n",
    "    \n",
    "\n",
    "    #recenter\n",
    "\n",
    "#     point intérieurs\n",
    "    maskinterf=(interf[:,0]>-1)\n",
    "    mask_vit_in=(vit_in[:,0]<600)\n",
    "    mask_vit_interf=(vit_interf[:,0]<600)\n",
    "\n",
    "#     print(bubble)\n",
    "    for bulle in bubble:\n",
    "        if bulle[3]<30*dx: #la bulle est plus petite que 30 cellules ie pas une \"bulle\"\n",
    "            j=bulle[2]\n",
    "            maskinterf=np.logical_and(maskinterf,interf[:,0][:]!=j)\n",
    "            mask_vit_in=np.logical_and(mask_vit_in,vit_in[:,0][:]!=j)\n",
    "            mask_vit_interf=np.logical_and(mask_vit_interf,vit_interf[:,0][:]!=j)\n",
    "    # on recentre les points\n",
    "    pc = np.median(vit_in[mask_vit_in][:,1:4])\n",
    "    interf[:, 1:4] = np.mod(interf[:, 1:4] - pc + L/2, L) - L/2 #shift interface position\n",
    "    vit_in[:, 1:4] = np.mod(vit_in[:, 1:4] - pc + L/2, L) - L/2 #shift data position\n",
    "    vit_interf[:, 1:4] = np.mod(vit_interf[:, 1:4] - pc + L/2, L) - L/2 #shift data position\n",
    "    vit_out[:, 0:3] = np.mod(vit_out[:, 0:3] - pc + L/2, L) - L/2 #shift data position\n",
    "    #compute distance\n",
    "    \n",
    "    #Voronoi diagram\n",
    "    voronoi_kdtree = cKDTree(interf[maskinterf][:,1:4])\n",
    "    surface = interpolate_surf(interf[maskinterf][:,1:4],voronoi_kdtree)\n",
    "    #Region of the test points\n",
    "    test_point_dist, regions_int = voronoi_kdtree.query(vit_in[:,1:4][mask_vit_in])\n",
    "#     mask_vit_in = np.logical_and(mask_vit_in,positif)\n",
    "    distance_int, normale_int = compute_dist_norm( vit_in[:,1:4][mask_vit_in], interf[maskinterf][:,1:4], regions_int,surface)\n",
    "    \n",
    "    \n",
    "    tangente1_int, tangente2_int = np.zeros([len(normale_int),3]), np.zeros([len(normale_int),3])\n",
    "    for (i,n) in enumerate(normale_int):\n",
    "            tangente1_int[i], tangente2_int[i] = calculate_orthogonal_vectors(n)\n",
    "    \n",
    "\n",
    "    gdn_in, gdt1_in, gdt2_in = np.zeros(len(normale_int)), np.zeros(len(normale_int)), np.zeros(len(normale_int))\n",
    "    gdn_in, gdt1_in , gdt2_in = proj_grad_in(vit_in[mask_vit_in],normale_int,tangente1_int,tangente2_int)\n",
    "\n",
    "\n",
    "    weights = gaussian(distance_int -dist_int[:, np.newaxis], sig)\n",
    "    gdvn_in = np.sum(gdn_in*weights*vit_in[:, -1][mask_vit_in], axis=1)/np.sum(vit_in[:, -1][mask_vit_in]*weights,axis=1)\n",
    "    gdvt1_in = np.sum(gdt1_in*weights*vit_in[:, -1][mask_vit_in], axis=1)/np.sum(vit_in[:, -1][mask_vit_in]*weights,axis=1)\n",
    "    gdvt2_in = np.sum(gdt2_in*weights*vit_in[:, -1][mask_vit_in], axis=1)/np.sum(vit_in[:, -1][mask_vit_in]*weights,axis=1)\n",
    "\n",
    "    \n",
    "    r0 = float(fold.split('-')[2])#bubble size\n",
    "\n",
    "    if r0 not in vitesseint:\n",
    "        vitesseint[r0] = np.zeros([4, len(dist_int)])\n",
    "        occ_ro_dump[r0] = 0\n",
    "\n",
    "    ind = dist_int<np.max(test_point_dist) \n",
    "#     ind = np.logical_and(ind, gdvn_in>0) \n",
    "    \n",
    "    vitesseint[r0][0, :][ind] += gdvn_in[ind]\n",
    "    vitesseint[r0][1, :][ind] += gdvt1_in[ind]\n",
    "    vitesseint[r0][2, :][ind] += gdvt2_in[ind]\n",
    "    vitesseint[r0][-1,:][ind] += 1\n",
    "    occ_ro_dump[r0]+=1\n",
    "    \n",
    "    with open( fold +  '/vitint.pkl', 'wb') as f:\n",
    "        pickle.dump(vitesseint, f)\n",
    "    \n",
    "    \n",
    "    \n",
    "    #     points extérieurs\n",
    "    gamma = float(fold.split('-')[2])#bubble size\n",
    "    pc=np.mean(vit_in[:,1:4], axis=0)\n",
    "    mask_vit_out=((vit_out[:,0]-pc[0])**2+(vit_out[:,1]-pc[1])**2+(vit_out[:,2]-pc[2])**2<(25*gamma**2)) #5*R0\n",
    "    #compute distance\n",
    "    distpoints_vit, regions_ext = voronoi_kdtree.query(vit_out[:,0:3][mask_vit_out])\n",
    "    distance_ext, normale_ext = compute_dist_norm(vit_out[:,:3][mask_vit_out],interf[maskinterf][:,1:4], regions_ext,surface)\n",
    "\n",
    "    tangente1_ext, tangente2_ext = np.zeros([len(normale_ext),3]), np.zeros([len(normale_ext),3])\n",
    "    for (i,n) in enumerate(normale_ext):\n",
    "            tangente1_ext[i], tangente2_ext[i] = calculate_orthogonal_vectors(n)\n",
    "            \n",
    "    gdn_out, gdt1_out , gdt2_out = np.zeros(len(normale_ext)),np.zeros(len(normale_ext)), np.zeros(len(normale_ext))\n",
    "    gdn_out, gdt1_out, gdt2_out = proj_grad_out(vit_out[mask_vit_out],normale_ext,tangente1_ext,tangente2_ext)\n",
    "\n",
    "    \n",
    "    weights = gaussian(distance_ext -dist_ext[:, np.newaxis], sig)\n",
    "    gdvn_out = np.sum(gdn_out*weights*vit_out[:, -1][mask_vit_out], axis=1)/np.sum(vit_out[:, -1][mask_vit_out]*weights,axis=1)\n",
    "    gdvt1_out = np.sum(gdt1_out*weights*vit_out[mask_vit_out][:, -1], axis=1)/np.sum(vit_out[mask_vit_out][:, -1]*weights,axis=1)\n",
    "    gdvt2_out = np.sum(gdt2_out*weights*vit_out[mask_vit_out][:, -1], axis=1)/np.sum(vit_out[mask_vit_out][:, -1]*weights,axis=1)\n",
    "\n",
    "\n",
    "    \n",
    "    if gamma not in vitesseext:\n",
    "        vitesseext[gamma] = np.zeros([4, len(dist_ext)])\n",
    "\n",
    "\n",
    "    ind = dist_ext<np.max(distpoints_vit) \n",
    "    vitesseext[r0][0, :][ind] += gdvn_out[ind]\n",
    "    vitesseext[r0][1, :][ind] += gdvt1_out[ind]\n",
    "    vitesseext[r0][2, :][ind] += gdvt2_out[ind]\n",
    "    vitesseext[r0][-1,:][ind] += 1\n",
    "    \n",
    "    with open( fold +  '/vitext.pkl', 'wb') as f:\n",
    "        pickle.dump(vitesseext, f)\n",
    "    \n",
    "for tab in [vitesseext,vitesseint]:\n",
    "    for key in tab:\n",
    "        tab[key][0:-1, :] /= np.where(tab[key][-1, :]>0, tab[key][-1, :], 1)"
   ]
  },
  {
   "cell_type": "code",
   "execution_count": null,
   "id": "b515654d",
   "metadata": {},
   "outputs": [],
   "source": []
  },
  {
   "cell_type": "code",
   "execution_count": null,
   "id": "006b78dc",
   "metadata": {},
   "outputs": [],
   "source": []
  },
  {
   "cell_type": "code",
   "execution_count": null,
   "id": "02a274a1",
   "metadata": {},
   "outputs": [],
   "source": []
  },
  {
   "cell_type": "code",
   "execution_count": null,
   "id": "05a772cc",
   "metadata": {},
   "outputs": [],
   "source": []
  },
  {
   "cell_type": "code",
   "execution_count": null,
   "id": "e17027c8",
   "metadata": {},
   "outputs": [],
   "source": []
  },
  {
   "cell_type": "code",
   "execution_count": null,
   "id": "7eda8701",
   "metadata": {},
   "outputs": [],
   "source": []
  },
  {
   "cell_type": "code",
   "execution_count": null,
   "id": "36942386",
   "metadata": {},
   "outputs": [],
   "source": []
  },
  {
   "cell_type": "code",
   "execution_count": null,
   "id": "d5b07ad2",
   "metadata": {},
   "outputs": [],
   "source": []
  },
  {
   "cell_type": "code",
   "execution_count": null,
   "id": "1926b01f",
   "metadata": {},
   "outputs": [],
   "source": []
  },
  {
   "cell_type": "code",
   "execution_count": null,
   "id": "b3f42e58",
   "metadata": {},
   "outputs": [],
   "source": []
  },
  {
   "cell_type": "code",
   "execution_count": null,
   "id": "d0377bd2",
   "metadata": {},
   "outputs": [],
   "source": []
  },
  {
   "cell_type": "code",
   "execution_count": null,
   "id": "204ad1a0",
   "metadata": {},
   "outputs": [],
   "source": [
    "print(gdn_in, gdt1_in, gdt2_in )"
   ]
  },
  {
   "cell_type": "code",
   "execution_count": null,
   "id": "b09c3f7c",
   "metadata": {},
   "outputs": [],
   "source": [
    "print(normv_out, tangv_out)"
   ]
  },
  {
   "cell_type": "code",
   "execution_count": null,
   "id": "1459f78c",
   "metadata": {},
   "outputs": [],
   "source": [
    "print(gdn_out, gdt1_out, gdt2_out )"
   ]
  }
 ],
 "metadata": {
  "kernelspec": {
   "display_name": "Python 3 (ipykernel)",
   "language": "python",
   "name": "python3"
  },
  "language_info": {
   "codemirror_mode": {
    "name": "ipython",
    "version": 3
   },
   "file_extension": ".py",
   "mimetype": "text/x-python",
   "name": "python",
   "nbconvert_exporter": "python",
   "pygments_lexer": "ipython3",
   "version": "3.10.9"
  }
 },
 "nbformat": 4,
 "nbformat_minor": 5
}
